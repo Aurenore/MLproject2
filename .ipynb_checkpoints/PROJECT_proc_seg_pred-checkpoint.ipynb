{
 "cells": [
  {
   "cell_type": "code",
   "execution_count": 1,
   "metadata": {},
   "outputs": [],
   "source": [
    "# Install a pip package in the current Jupyter kernel\n",
    "#import sys\n",
    "#!{sys.executable} -m pip install yellowbrick"
   ]
  },
  {
   "cell_type": "code",
   "execution_count": 1,
   "metadata": {
    "executionInfo": {
     "elapsed": 2081,
     "status": "ok",
     "timestamp": 1637253835568,
     "user": {
      "displayName": "Axl Roland",
      "photoUrl": "https://lh3.googleusercontent.com/a/default-user=s64",
      "userId": "07744519565161145905"
     },
     "user_tz": -60
    },
    "id": "2D7T9bq7jvmp"
   },
   "outputs": [],
   "source": [
    "import matplotlib.pyplot as plt\n",
    "import numpy as np\n",
    "import cv2\n",
    "from scipy.ndimage import label, generate_binary_structure\n"
   ]
  },
  {
   "cell_type": "code",
   "execution_count": 2,
   "metadata": {},
   "outputs": [],
   "source": [
    "def reindex_cell_labels(img):\n",
    "    idx = np.unique(img)\n",
    "    img_c = img.copy()\n",
    "    for i, x in enumerate(idx):\n",
    "        img_c[img_c == x] = i\n",
    "    return(img_c.astype('uint16'))"
   ]
  },
  {
   "cell_type": "code",
   "execution_count": 422,
   "metadata": {},
   "outputs": [],
   "source": [
    "true_seg_file = \"/Users/acoudray/Desktop/tmp_samba/phd_courses/machine_learning/project2/data/testing_SEGpred_FromCELLPOS_CURATED.tif\"\n",
    "_, true_seg = cv2.imreadmulti(true_seg_file, [], cv2.IMREAD_ANYDEPTH)"
   ]
  },
  {
   "cell_type": "code",
   "execution_count": 423,
   "metadata": {},
   "outputs": [],
   "source": [
    "# Recover ground truth into a single array\n",
    "true_segs_test = np.zeros((125,512,512))\n",
    "for f in range(125):\n",
    "    true_segs_test[f,:,:] = reindex_cell_labels(true_seg[f]) # Depending if the .tif is in binary format\n",
    "    #true_segs[f,:,:] = true_seg[f]"
   ]
  },
  {
   "cell_type": "markdown",
   "metadata": {},
   "source": [
    "Same for training set"
   ]
  },
  {
   "cell_type": "code",
   "execution_count": 398,
   "metadata": {},
   "outputs": [],
   "source": [
    "true_seg_file = \"/Users/acoudray/Desktop/tmp_samba/phd_courses/machine_learning/project2/data/training_TOPLEFT_curatedseg_mod1.tif\"\n",
    "_, true_seg = cv2.imreadmulti(true_seg_file, [], cv2.IMREAD_ANYDEPTH)"
   ]
  },
  {
   "cell_type": "code",
   "execution_count": 399,
   "metadata": {},
   "outputs": [],
   "source": [
    "# Recover ground truth into a single array\n",
    "true_segs_train = np.zeros((125,512,512))\n",
    "for f in range(125):\n",
    "    true_segs_train[f,:,:] = reindex_cell_labels(true_seg[f]) # Depending if the .tif is in binary format\n",
    "    #true_segs[f,:,:] = true_seg[f]"
   ]
  },
  {
   "cell_type": "markdown",
   "metadata": {},
   "source": [
    "### Recovering cellPos annotation \n",
    "\n",
    "They should be by far the best predictions as ground truth in based on this annotation."
   ]
  },
  {
   "cell_type": "code",
   "execution_count": 133,
   "metadata": {},
   "outputs": [],
   "source": [
    "cellpos_seg_file = \"/Users/acoudray/Desktop/tmp_samba/phd_courses/machine_learning/project2/data/_fullmovie_segmentation_cellpose_v2.tif\"\n",
    "_, cellpos_seg = cv2.imreadmulti(cellpos_seg_file, [], cv2.IMREAD_ANYDEPTH)"
   ]
  },
  {
   "cell_type": "code",
   "execution_count": 134,
   "metadata": {},
   "outputs": [],
   "source": [
    "# Recover ground truth into a single array\n",
    "cellpos_segs = np.zeros((125,512,512))\n",
    "for f in range(125):\n",
    "    cellpos_segs[f,:,:] = reindex_cell_labels(cellpos_seg[f][0:512,0:512])"
   ]
  },
  {
   "cell_type": "markdown",
   "metadata": {},
   "source": [
    "### Recovering DELTA predictions"
   ]
  },
  {
   "cell_type": "code",
   "execution_count": 402,
   "metadata": {},
   "outputs": [],
   "source": [
    "# Predictions are written in the form of many png files that needs to be compiled in a tif\n",
    "test_pred_dir = \"delta_dev_branch/delta/testing_curated_seg_1/seg_out_Delta_defaults/\"\n",
    "list_files = sorted(os.listdir(test_pred_dir))\n",
    "delta_d_test = np.zeros((125,512,512))\n",
    "\n",
    "for f, file in enumerate(list_files):\n",
    "    \n",
    "    I = np.array(cv2.imread(test_pred_dir + file))\n",
    "    I_gray = (I[:,:,0] + I[:,:,1] + I[:,:,2] )/ 3\n",
    "    I_gray[I_gray>0] = 1\n",
    "    delta_d_test[f,:,:] = label(I_gray)[0]"
   ]
  },
  {
   "cell_type": "code",
   "execution_count": 404,
   "metadata": {},
   "outputs": [],
   "source": [
    "train_pred_dir = \"delta_dev_branch/delta/training_curated_seg_1/seg_out/\"\n",
    "list_files = sorted(os.listdir(train_pred_dir))\n",
    "delta_d_train = np.zeros((125,512,512))\n",
    "\n",
    "for f, file in enumerate(list_files):\n",
    "    I = np.array(cv2.imread(train_pred_dir + file))\n",
    "    I_gray = (I[:,:,0] + I[:,:,1] + I[:,:,2] )/ 3\n",
    "    I_gray[I_gray>0] = 1\n",
    "    delta_d_train[f,:,:] = label(I_gray)[0]"
   ]
  },
  {
   "cell_type": "markdown",
   "metadata": {},
   "source": [
    "### Recover DELTA predictions made with different weights "
   ]
  },
  {
   "cell_type": "code",
   "execution_count": 408,
   "metadata": {},
   "outputs": [],
   "source": [
    "# Predictions are written in the form of many png files that needs to be compiled in a tif\n",
    "test_pred_dir = \"delta_dev_branch/delta/testing_curated_seg_1/seg_out_CustomWeights_sig50_q085_pow5/\"\n",
    "list_files = sorted(os.listdir(test_pred_dir))\n",
    "delta_custom_test = np.zeros((125,512,512))\n",
    "for f, file in enumerate(list_files):\n",
    "    I = np.array(cv2.imread(test_pred_dir + file))\n",
    "    I_gray = (I[:,:,0] + I[:,:,1] + I[:,:,2] )/ 3\n",
    "    I_gray[I_gray>0] = 1\n",
    "    delta_custom_test[f,:,:] = label(I_gray)[0]"
   ]
  },
  {
   "cell_type": "code",
   "execution_count": 411,
   "metadata": {},
   "outputs": [],
   "source": [
    "# Predictions are written in the form of many png files that needs to be compiled in a tif\n",
    "train_pred_dir = \"delta_dev_branch/delta/training_curated_seg_1/seg_out_CustomWeights_sig50_q085_pow5/\"\n",
    "list_files = sorted(os.listdir(train_pred_dir))\n",
    "delta_custom_train = np.zeros((125,512,512))\n",
    "for f, file in enumerate(list_files):\n",
    "    I = np.array(cv2.imread(train_pred_dir + file))\n",
    "    I_gray = (I[:,:,0] + I[:,:,1] + I[:,:,2] )/ 3\n",
    "    I_gray[I_gray>0] = 1\n",
    "    delta_custom_train[f,:,:] = label(I_gray)[0]"
   ]
  },
  {
   "cell_type": "markdown",
   "metadata": {},
   "source": [
    "### Recovering Illastik predictions "
   ]
  },
  {
   "cell_type": "code",
   "execution_count": 427,
   "metadata": {},
   "outputs": [],
   "source": [
    "# Predictions are written in the form of many png files that needs to be compiled in a tif\n",
    "illastik_seg_file = \"data/Seg_Ilastik_better_train.tiff\"\n",
    "_, illastik_seg = cv2.imreadmulti(illastik_seg_file, [], cv2.IMREAD_ANYDEPTH)\n",
    "# Recover ground truth into a single array\n",
    "illastik_segs_test = np.zeros((125,512,512))\n",
    "for f in range(125):\n",
    "    illastik_segs_test[f,:,:] = label(illastik_seg[f])[0]"
   ]
  },
  {
   "cell_type": "code",
   "execution_count": 428,
   "metadata": {},
   "outputs": [],
   "source": [
    "# Predictions are written in the form of many png files that needs to be compiled in a tif\n",
    "illastik_seg_file = \"data/Seg_ilastik_better.tiff\"\n",
    "_, illastik_seg = cv2.imreadmulti(illastik_seg_file, [], cv2.IMREAD_ANYDEPTH)\n",
    "# Recover ground truth into a single array\n",
    "illastik_segs_train = np.zeros((125,512,512))\n",
    "for f in range(125):\n",
    "    illastik_segs_train[f,:,:] = label(illastik_seg[f])[0]"
   ]
  },
  {
   "cell_type": "markdown",
   "metadata": {},
   "source": [
    "### Score Cell Segmentation predictions"
   ]
  },
  {
   "cell_type": "code",
   "execution_count": 219,
   "metadata": {},
   "outputs": [],
   "source": [
    "def euc_dist(arr1, arr2):\n",
    "    return(np.linalg.norm(arr1 - arr2))\n",
    "\n",
    "def reindex_cell_labels(img):\n",
    "    idx = np.unique(img)\n",
    "    for i, x in enumerate(idx):\n",
    "        img[img == x] = i\n",
    "    return(img)\n",
    "\n",
    "class Cell:\n",
    "    def __init__(self, label, x_m=None, y_m=None, size=None):\n",
    "        self.label = label\n",
    "        self.pxl_pos = None \n",
    "        self.x_m = x_m\n",
    "        self.y_m = y_m\n",
    "        self.size = size\n",
    "        self.dist2board = None\n",
    "        self.c_pos = None\n",
    "        self.nn_t = [None, 1000]\n",
    "        self.nn_tp1 = [None, 1000]\n",
    "        self.self_tp1 = [None, 1000]\n",
    "        self.nn_tp2 = [None, 1000]\n",
    "        self.self_tp2 = [None, 1000]\n",
    "        \n",
    "    def dist_to_board(self, img):\n",
    "        self.dist2board = min(min(abs(self.y_m - 0), abs(self.y_m - img.shape[1])),\n",
    "                              min(abs(self.x_m - 0), abs(self.x_m - img.shape[0])) )\n",
    "        \n",
    "    def get_pos_from_img(self, img):\n",
    "        self.pxl_pos = np.argwhere(img == self.label)\n",
    "        self.x_m = int(np.mean(self.pxl_pos[:,0]))\n",
    "        self.y_m = int(np.mean(self.pxl_pos[:,1]))\n",
    "        self.c_pos = np.array([self.x_m, self.y_m])\n",
    "        self.size = len(self.pxl_pos[:,0])\n",
    "        \n",
    "    def find_NN(self, cellc):\n",
    "        n_cells = len(cellc.cells)\n",
    "        for m, lab in enumerate(cellc.cells_labels):\n",
    "            if lab != self.label:\n",
    "                d = euc_dist(self.c_pos, cellc.cells[m].c_pos)\n",
    "                if d < self.nn_t[1]:\n",
    "                    self.nn_t[0] = lab\n",
    "                    self.nn_t[1] = d\n",
    "                    \n",
    "    def find_NN_otherFrame(self, cellc, timepoint='tp1'):\n",
    "        n_cells = len(cellc.cells)\n",
    "        for m, lab in enumerate(cellc.cells_labels):\n",
    "            d = euc_dist(self.c_pos, cellc.cells[m].c_pos)\n",
    "            if timepoint == 'tp1':\n",
    "                if d < self.self_tp1[1]:\n",
    "                    self.self_tp1[0] = lab\n",
    "                    self.self_tp1[1] = d\n",
    "            elif timepoint == 'tp2':\n",
    "                if d < self.self_tp2[1]:\n",
    "                    self.self_tp2[0] = lab\n",
    "                    self.self_tp2[1] = d\n",
    "                    \n",
    "        for m, lab in enumerate(cellc.cells_labels):\n",
    "            d = euc_dist(self.c_pos, cellc.cells[m].c_pos)\n",
    "            if timepoint == 'tp1':\n",
    "                if lab != self.self_tp1[0]:\n",
    "                    if d < self.nn_tp1[1]:\n",
    "                        self.nn_tp1[0] = lab\n",
    "                        self.nn_tp1[1] = d\n",
    "            elif timepoint == 'tp2':\n",
    "                if lab != self.self_tp2[0]:\n",
    "                    if d < self.nn_tp2[1]:\n",
    "                        self.nn_tp2[0] = lab\n",
    "                        self.nn_tp2[1] = d\n",
    "                \n",
    "class CellContainer:\n",
    "    def __init__(self, img):\n",
    "        self.cells = []\n",
    "        self.cells_x = []\n",
    "        self.cells_y = [] \n",
    "        self.cells_labels = []  \n",
    "        self.n_c = 0\n",
    "        self.init_from_img(img)\n",
    "\n",
    "    def init_from_img(self, img):\n",
    "        cells_idx = np.unique(img)\n",
    "        cells_idx = cells_idx[cells_idx!=0]\n",
    "        for i, idx in enumerate(cells_idx):\n",
    "            cell = Cell(idx) # create a cell with a label\n",
    "            cell.get_pos_from_img(img) # get info about pixel, size and center of cell\n",
    "            cell.dist_to_board(img) # calculate minimal distance to image boarders\n",
    "            self.add_cell(cell)\n",
    "    \n",
    "    def add_cell(self, cell):\n",
    "        self.cells.append(cell)\n",
    "        self.cells_x.append(cell.x_m)\n",
    "        self.cells_y.append(cell.y_m)\n",
    "        self.cells_labels.append(cell.label)\n",
    "        self.n_c+=1\n",
    "\n",
    "    def find_NN(self):\n",
    "        for i, idx in enumerate(self.cells_labels):\n",
    "            self.cells[i].find_NN(self)\n",
    "            \n",
    "    def find_NN_other_frame(self, cc_next, timepoint = 'tp1'):\n",
    "        for i, idx in enumerate(self.cells_labels):\n",
    "            self.cells[i].find_NN_otherFrame(cc_next, timepoint)\n",
    "\n",
    "    def score_surface(self, seg_true, seg_pred):\n",
    "        mean_score=0\n",
    "        nbr_zero_score=0\n",
    "        hit, n_cells_considered = 0, 0\n",
    "        for i, lab_train in enumerate(self.cells_labels):\n",
    "            # ignore small cells \n",
    "            if self.cells[i].size < 20:\n",
    "                next\n",
    "            n_cells_considered+=1\n",
    "            \n",
    "            lab_test=self.cells[i].self_tp1[0] #label of the test image\n",
    "\n",
    "            seg_pred_1c = seg_pred.copy()\n",
    "            seg_pred_1c[seg_pred_1c!=lab_test]=0 #only the cell is different than 0\n",
    "            seg_pred_1c[seg_pred_1c==lab_test]=1 #binary mask for the cell\n",
    "\n",
    "            seg_true_1c=seg_true.copy()\n",
    "            seg_true_1c[seg_true_1c!=lab_train]=0 \n",
    "            seg_true_1c[seg_true_1c==lab_train]=1 #binary mask \n",
    "\n",
    "            sum_lab = seg_true_1c+seg_pred_1c \n",
    "\n",
    "            common_surface = sum_lab.copy()\n",
    "            common_surface[sum_lab<=1] = 0\n",
    "            nb_union = np.count_nonzero(sum_lab.copy())\n",
    "            nb_common_surface = np.count_nonzero(common_surface)\n",
    "            score = nb_common_surface/nb_union\n",
    "            \n",
    "            if nb_common_surface == 0: #if the commmon surface is null, then we don't consider this pair of cells.\n",
    "                nbr_zero_score+=1\n",
    "            mean_score+=score\n",
    "            \n",
    "            # Second metric of accuracy\n",
    "            true_surface = np.count_nonzero(seg_true_1c)\n",
    "            pred_surface = np.count_nonzero(seg_pred_1c)\n",
    "            ratio_true = nb_common_surface / true_surface\n",
    "            ratio_pred = nb_common_surface / pred_surface\n",
    "            if ratio_true > 0.51 and ratio_pred > 0.51:\n",
    "                hit+=1 \n",
    "\n",
    "        mean_score=mean_score/(n_cells_considered+1-nbr_zero_score)\n",
    "        ratio_hit = hit / (n_cells_considered+1-nbr_zero_score)\n",
    "        return mean_score, ratio_hit"
   ]
  },
  {
   "cell_type": "code",
   "execution_count": 430,
   "metadata": {},
   "outputs": [],
   "source": [
    "scores_delta_tr, accuracy_delta_tr, scores_illastik_tr, accuracy_illastik_tr = [], [], [], []\n",
    "scores_cpose_tr, accuracy_cpose_tr, scores_cu_tr, accuracy_cu_tr = [], [], [], []\n",
    "scores_delta_te, accuracy_delta_te, scores_illastik_te, accuracy_illastik_te = [], [], [], []\n",
    "scores_cpose_te, accuracy_cpose_te, scores_cu_te, accuracy_cu_te = [], [], [], []\n",
    "\n",
    "for f in range(125):\n",
    "    \n",
    "    ### Load data for training set \n",
    "    true_seg_train = true_segs_train[f].copy()\n",
    "    pseg_delta_d_tr = delta_d_train[f].copy()\n",
    "    pseg_illastik_tr = illastik_segs_train[f].copy()\n",
    "    pseg_delta_c_tr = delta_custom_train[f].copy()\n",
    "    cc_true_seg_tr = CellContainer(true_seg_train)\n",
    "    cc_pred_seg_i_tr = CellContainer(pseg_illastik_tr)\n",
    "    cc_pred_seg_dd_tr = CellContainer(pseg_delta_d_tr)\n",
    "    cc_pred_seg_dc_tr = CellContainer(pseg_delta_c_tr)\n",
    "    \n",
    "    ### Load data for training set \n",
    "    true_seg_test = true_segs_test[f].copy()\n",
    "    pseg_delta_d_te = delta_d_test[f].copy()\n",
    "    pseg_illastik_te = illastik_segs_test[f].copy()\n",
    "    pseg_delta_c_te = delta_custom_test[f].copy()\n",
    "    cc_true_seg_te = CellContainer(true_seg_test)\n",
    "    cc_pred_seg_i_te = CellContainer(pseg_illastik_te)\n",
    "    cc_pred_seg_dd_te = CellContainer(pseg_delta_d_te)\n",
    "    cc_pred_seg_dc_te = CellContainer(pseg_delta_c_te)\n",
    "    \n",
    "    # Test for DELTA default predictions / TRAINING\n",
    "    cc_true_seg_tr.find_NN_other_frame(cc_pred_seg_dd_tr, 'tp1')\n",
    "    score_d, acc_d = cc_true_seg_tr.score_surface(true_seg_train, pseg_delta_d_tr)\n",
    "    scores_delta_tr.append(score_d)\n",
    "    accuracy_delta_tr.append(acc_d)\n",
    "    # Test for DELTA default predictions / TESTING\n",
    "    cc_true_seg_te.find_NN_other_frame(cc_pred_seg_dd_te, 'tp1')\n",
    "    score_d, acc_d = cc_true_seg_te.score_surface(true_seg_test, pseg_delta_d_te)\n",
    "    scores_delta_te.append(score_d)\n",
    "    accuracy_delta_te.append(acc_d)\n",
    "    \n",
    "    # Test for DELTA with custom weights / TRAINING \n",
    "    cc_true_seg_tr = CellContainer(true_seg_train)\n",
    "    cc_true_seg_tr.find_NN_other_frame(cc_pred_seg_dc_tr, 'tp1')\n",
    "    score_cu, acc_cu = cc_true_seg_tr.score_surface(true_seg_train, pseg_delta_c_tr)\n",
    "    scores_cu_tr.append(score_cu)\n",
    "    accuracy_cu_tr.append(acc_cu)\n",
    "     # Test for DELTA with custom weights / TESTING \n",
    "    cc_true_seg_te = CellContainer(true_seg_test)\n",
    "    cc_true_seg_te.find_NN_other_frame(cc_pred_seg_dc_te, 'tp1')\n",
    "    score_cu, acc_cu = cc_true_seg_te.score_surface(true_seg_test, pseg_delta_c_te)\n",
    "    scores_cu_te.append(score_cu)\n",
    "    accuracy_cu_te.append(acc_cu)\n",
    "    \n",
    "    # Test for ILLASTIK predictions  / TRAINING\n",
    "    cc_true_seg_tr = CellContainer(true_seg_train)\n",
    "    cc_true_seg_tr.find_NN_other_frame(cc_pred_seg_i_tr, 'tp1')\n",
    "    score_i, acc_i = cc_true_seg_tr.score_surface(true_seg_train, pseg_illastik_tr)\n",
    "    scores_illastik_tr.append(score_i)\n",
    "    accuracy_illastik_tr.append(acc_i)\n",
    "     # Test for ILLASTIK predictions / TESTING\n",
    "    cc_true_seg_te = CellContainer(true_seg_test)\n",
    "    cc_true_seg_te.find_NN_other_frame(cc_pred_seg_i_te, 'tp1')\n",
    "    score_i, acc_i = cc_true_seg_te.score_surface(true_seg_test, pseg_illastik_te)\n",
    "    scores_illastik_te.append(score_i)\n",
    "    accuracy_illastik_te.append(acc_i)\n",
    "    "
   ]
  },
  {
   "cell_type": "code",
   "execution_count": 432,
   "metadata": {},
   "outputs": [
    {
     "data": {
      "image/png": "[encoded data removed]",
      "text/plain": [
       "<Figure size 1080x288 with 2 Axes>"
      ]
     },
     "metadata": {
      "needs_background": "light"
     },
     "output_type": "display_data"
    }
   ],
   "source": [
    "fig, axs = plt.subplots(1,2,figsize=(15,4))\n",
    "axs[0].plot(accuracy_illastik_tr, c='b', label=\"Illastik\")\n",
    "axs[0].plot(accuracy_delta_tr, c='r', label=\"DELTA_default\")\n",
    "axs[0].plot(accuracy_cu_tr, c='darkred', label=\"DELTA_customW\")\n",
    "#axs[0].plot(accuracy_cpose, c='g', label=\"CellPos\")\n",
    "axs[0].set(xlabel='Frame', ylabel='Accuracy')\n",
    "axs[0].legend(loc=\"lower left\")\n",
    "axs[1].plot(scores_illastik_tr, c='b', label=\"Illastik\")\n",
    "axs[1].plot(scores_delta_tr, c='r', label=\"DELTA_default\")\n",
    "axs[1].plot(scores_cu_tr, c='darkred', label=\"DELTA_customW\")\n",
    "#axs[1].plot(scores_cpose, c='g', label=\"CellPos\")\n",
    "axs[1].set(xlabel='Frame', ylabel='Pixel overlap with ground truth')\n",
    "axs[1].legend(loc=\"lower left\")\n",
    "plt.show()"
   ]
  },
  {
   "cell_type": "code",
   "execution_count": 468,
   "metadata": {},
   "outputs": [],
   "source": [
    "range_acc_illastik, range_acc_delta, range_acc_delta_c = [], [], []\n",
    "for i in range(12):\n",
    "    range_acc_illastik.append(np.array(accuracy_illastik_tr)[i*10:i*10+10])\n",
    "    range_acc_delta.append(np.array(accuracy_delta_te)[i*10:i*10+10])\n",
    "    range_acc_delta_c.append(np.array(accuracy_cu_te)[i*10:i*10+10])"
   ]
  },
  {
   "cell_type": "code",
   "execution_count": 469,
   "metadata": {},
   "outputs": [],
   "source": [
    "def set_box_color(bp, color):\n",
    "    plt.setp(bp['boxes'], color=color)\n",
    "    plt.setp(bp['whiskers'], color=color)\n",
    "    plt.setp(bp['caps'], color=color)\n",
    "    plt.setp(bp['medians'], color=color)"
   ]
  },
  {
   "cell_type": "code",
   "execution_count": 470,
   "metadata": {},
   "outputs": [
    {
     "data": {
      "image/png": "[encoded data removed]",
      "text/plain": [
       "<Figure size 720x216 with 1 Axes>"
      ]
     },
     "metadata": {
      "needs_background": "light"
     },
     "output_type": "display_data"
    }
   ],
   "source": [
    "plt.figure(figsize=(10,3))\n",
    "btr = plt.boxplot(range_acc_illastik, positions=np.array(range(len(range_acc_illastik)))*2.0-0.4, sym='', widths=0.3)\n",
    "bte = plt.boxplot(range_acc_delta, positions=np.array(range(len(range_acc_delta)))*2.0, sym='', widths=0.3)\n",
    "btc = plt.boxplot(range_acc_delta_c, positions=np.array(range(len(range_acc_delta)))*2.0+0.4, sym='', widths=0.3)\n",
    "set_box_color(btr, '#2C7BB6') # colors are from http://colorbrewer2.org/\n",
    "set_box_color(bte, '#D7191C')\n",
    "set_box_color(btc, 'darkred')\n",
    "\n",
    "plt.xticks([0,2,4,6,8,10,12,14,16,18,20,22],\n",
    "           ['0-10','10-20','20-30','30-40','40-50','50-60','60-70','70-80','80-90','90-100','100-110','110-120'])\n",
    "plt.xlabel('Frame range')\n",
    "plt.ylabel('Accuracy')\n",
    "plt.title('Cell segmentation accuracy on testing set')\n",
    "plt.legend([btr[\"boxes\"][0], bte[\"boxes\"][0], btc[\"boxes\"][0]], ['Illastik', 'Delta defaults', 'Delta custom weights'], \n",
    "           loc='lower center')\n",
    "plt.savefig('results_explore_tif/cell_segmentation_testing_range10.pdf',dpi=300, bbox_inches='tight')\n",
    "plt.show()"
   ]
  },
  {
   "cell_type": "code",
   "execution_count": 473,
   "metadata": {},
   "outputs": [],
   "source": [
    "range_acc_illastik, range_acc_delta, range_acc_delta_c = [], [], []\n",
    "range_width=25\n",
    "for i in range(5):\n",
    "    range_acc_illastik.append(np.array(accuracy_illastik_tr)[i*range_width:i*range_width+range_width])\n",
    "    range_acc_delta.append(np.array(accuracy_delta_te)[i*range_width:i*range_width+range_width])\n",
    "    range_acc_delta_c.append(np.array(accuracy_cu_te)[i*range_width:i*range_width+range_width])"
   ]
  },
  {
   "cell_type": "code",
   "execution_count": 475,
   "metadata": {},
   "outputs": [
    {
     "data": {
      "image/png": "[encoded data removed]",
      "text/plain": [
       "<Figure size 432x180 with 1 Axes>"
      ]
     },
     "metadata": {
      "needs_background": "light"
     },
     "output_type": "display_data"
    }
   ],
   "source": [
    "plt.figure(figsize=(6,2.5))\n",
    "btr = plt.boxplot(range_acc_illastik, positions=np.array(range(len(range_acc_illastik)))*2.0-0.4, sym='', widths=0.3)\n",
    "bte = plt.boxplot(range_acc_delta, positions=np.array(range(len(range_acc_delta)))*2.0, sym='', widths=0.3)\n",
    "btc = plt.boxplot(range_acc_delta_c, positions=np.array(range(len(range_acc_delta)))*2.0+0.4, sym='', widths=0.3)\n",
    "set_box_color(btr, '#2C7BB6') # colors are from http://colorbrewer2.org/\n",
    "set_box_color(bte, '#D7191C')\n",
    "set_box_color(btc, 'darkred')\n",
    "\n",
    "plt.xticks([0,2,4,6,8],\n",
    "           ['0-25','25-50','50-75','75-100','100-125'])\n",
    "plt.xlabel('Frame range')\n",
    "plt.ylabel('Accuracy')\n",
    "plt.title('Cell segmentation accuracy on testing set')\n",
    "plt.legend([btr[\"boxes\"][0], bte[\"boxes\"][0], btc[\"boxes\"][0]], ['Illastik', 'Delta defaults', 'Delta custom weights'], \n",
    "           loc='lower left')\n",
    "plt.savefig('results_explore_tif/cell_segmentation_testing_range25.pdf', dpi=300, bbox_inches='tight')\n",
    "plt.show()"
   ]
  },
  {
   "cell_type": "code",
   "execution_count": 471,
   "metadata": {},
   "outputs": [],
   "source": [
    "stack_acc_tr = np.array([np.array(accuracy_illastik_te), np.array(accuracy_delta_tr), np.array(accuracy_cu_tr)])\n",
    "stack_acc_te = np.array([np.array(accuracy_illastik_tr), np.array(accuracy_delta_te), np.array(accuracy_cu_te)])"
   ]
  },
  {
   "cell_type": "code",
   "execution_count": 389,
   "metadata": {},
   "outputs": [
    {
     "data": {
      "image/png": "[encoded data removed]",
      "text/plain": [
       "<Figure size 216x216 with 1 Axes>"
      ]
     },
     "metadata": {
      "needs_background": "light"
     },
     "output_type": "display_data"
    }
   ],
   "source": [
    "plt.figure(figsize=(3,3))\n",
    "btr_tr = plt.boxplot(stack_acc_tr.T[:,0], positions=[0]-0.4, widths=0.6)\n",
    "btr_te = plt.boxplot(stack_acc_te.T[:,0], positions=[0]+0.4, widths=0.6)\n",
    "\n",
    "bte_tr = plt.boxplot(stack_acc_tr.T[:,1], positions=[1]-0.4, widths=0.6)\n",
    "bte_te = plt.boxplot(stack_acc_te.T[:,1], positions=[1]+0.4, widths=0.6)\n",
    "\n",
    "btc_tr = plt.boxplot(stack_acc_tr.T[:,2], positions=[2]-0.4, widths=0.6)\n",
    "btc_te = plt.boxplot(stack_acc_te.T[:,2], positions=[2]+0.4, widths=0.6)\n",
    "\n",
    "\n",
    "set_box_color(btr, '#2C7BB6') # colors are from http://colorbrewer2.org/\n",
    "set_box_color(bte, '#D7191C')\n",
    "set_box_color(btc, 'darkred')\n",
    "\n",
    "plt.xticks([0,1,2], ['Illastik', 'Delta default', 'Delta Custom Weights'], rotation=60, ha='right')\n",
    "plt.ylabel('Accuracy')\n",
    "plt.title('Accuracy on cell segmentation')\n",
    "#plt.savefig('results_explore_tif/cell_segmentation_testing_overall.pdf',dpi=300)\n",
    "plt.show()"
   ]
  },
  {
   "cell_type": "code",
   "execution_count": 375,
   "metadata": {},
   "outputs": [
    {
     "data": {
      "text/plain": [
       "0.8541666666666666"
      ]
     },
     "execution_count": 375,
     "metadata": {},
     "output_type": "execute_result"
    }
   ],
   "source": [
    "np.median(stack_acc.T[:,2])"
   ]
  },
  {
   "cell_type": "markdown",
   "metadata": {},
   "source": [
    "### Other stuff"
   ]
  },
  {
   "cell_type": "code",
   "execution_count": 7,
   "metadata": {},
   "outputs": [],
   "source": [
    "imageio.mimwrite('data/testing_SEGpred_default_weights_1.tif', tif_obj)"
   ]
  },
  {
   "cell_type": "code",
   "execution_count": 17,
   "metadata": {},
   "outputs": [],
   "source": [
    "# Predictions are written in the form of many png files that needs to be compiled in a tif\n",
    "seg_cellpos_file = \"data/_fullmovie_segmentation_cellpose_v2.tif\"\n",
    "_, seg_cellpos = cv2.imreadmulti(seg_cellpos_file, [], cv2.IMREAD_ANYDEPTH)"
   ]
  },
  {
   "cell_type": "code",
   "execution_count": 25,
   "metadata": {},
   "outputs": [],
   "source": [
    "cellpos_training = np.zeros((125, 512, 512))\n",
    "for f in range(125):\n",
    "    cellpos_training[f,:,:] = reindex_cell_labels(seg_cellpos[f][1024:1536,0:512])"
   ]
  },
  {
   "cell_type": "code",
   "execution_count": 34,
   "metadata": {},
   "outputs": [],
   "source": [
    "imageio.mimwrite('data/testing_cellpos_seg.tif', cellpos_training)"
   ]
  },
  {
   "cell_type": "markdown",
   "metadata": {},
   "source": [
    "#### Recoving predicted cell segmentation without labels "
   ]
  },
  {
   "cell_type": "code",
   "execution_count": null,
   "metadata": {},
   "outputs": [],
   "source": [
    "# This is a work around to work with the image subsets we have :\n",
    "label_file = \"/Users/acoudray/Desktop/tmp_samba/phd_courses/machine_learning/project2/data/testing_SEGpred_default_weights_1.tif\"\n",
    "_, labels = cv2.imreadmulti(label_file, [], cv2.IMREAD_ANYDEPTH)"
   ]
  },
  {
   "cell_type": "code",
   "execution_count": null,
   "metadata": {},
   "outputs": [],
   "source": [
    "uniq_labs = np.zeros((125,512,512))\n",
    "for i in range(len(labels)):\n",
    "    labeled_array, num_features = label(labels[i].copy()) # This use label() function from scipy.ndimage\n",
    "    uniq_labs[i, :, :] = labeled_array"
   ]
  },
  {
   "cell_type": "code",
   "execution_count": null,
   "metadata": {},
   "outputs": [],
   "source": [
    "imageio.mimwrite('data/testing_SEGpred_default_weights_UNIQLAB_1.tif', uniq_labs)"
   ]
  },
  {
   "cell_type": "markdown",
   "metadata": {},
   "source": [
    "### Recovring curated testing set cell segmentation "
   ]
  },
  {
   "cell_type": "code",
   "execution_count": 35,
   "metadata": {},
   "outputs": [],
   "source": [
    "# Predictions are written in the form of many png files that needs to be compiled in a tif\n",
    "seg_curat_file = \"data/testing_SEGpred_CURATED.tif\"\n",
    "_, seg_curat = cv2.imreadmulti(seg_curat_file, [], cv2.IMREAD_ANYDEPTH)"
   ]
  },
  {
   "cell_type": "code",
   "execution_count": 57,
   "metadata": {},
   "outputs": [],
   "source": [
    "seg_curat_reform = np.zeros((125,512,512))\n",
    "for f in range(len(seg_curat)):\n",
    "    seg_curat_reform[f,:,:] = reindex_cell_labels(seg_curat[f]).astype('uint16')"
   ]
  },
  {
   "cell_type": "code",
   "execution_count": 61,
   "metadata": {},
   "outputs": [],
   "source": [
    "imageio.mimwrite('data/testing_SEGpred_CURATED_REFORM.tif', seg_curat_reform)"
   ]
  },
  {
   "cell_type": "markdown",
   "metadata": {},
   "source": [
    "#### Let's use labeling function from DELTA "
   ]
  },
  {
   "cell_type": "code",
   "execution_count": null,
   "metadata": {},
   "outputs": [],
   "source": [
    "def label_seg(seg,cellnumbers=None,return_contours=False,background=0):\n",
    "    '''\n",
    "    Label cells in segmentation mask\n",
    "\n",
    "    Parameters\n",
    "    ----------\n",
    "    seg : numpy 2D array of float/uint8/uint16/bool\n",
    "        Cells segmentation mask. Values >0.5 will be considered cell pixels\n",
    "    cellnumbers : list of ints, optional\n",
    "        Numbers to attribute to each cell mask, from top to bottom of image.\n",
    "        Because we are using uint16s, maximum cell number is 65535. If None is \n",
    "        provided, the cells will be labeled 1,2,3,... Background is 0\n",
    "        The default is None.\n",
    "\n",
    "    Returns\n",
    "    -------\n",
    "    label : 2D numpy array of uint16\n",
    "        Labelled image. Each cell in the image is marked by adjacent pixels \n",
    "        with values given by cellnumbers\n",
    "\n",
    "    '''\n",
    "    if seg.dtype == bool:\n",
    "        seg = seg.astype(np.uint8)\n",
    "    else:\n",
    "        seg = cv2.threshold(seg,.5,1,cv2.THRESH_BINARY)[1].astype(np.uint8)\n",
    "    contours = cv2.findContours(seg, cv2.RETR_EXTERNAL, cv2.CHAIN_APPROX_SIMPLE)[0]\n",
    "    contours_s = sorted(contours, key=lambda elem: np.max(elem[:,0,1])) # Sorting along Y\n",
    "    label = np.full(seg.shape,background,dtype=np.uint16)\n",
    "    for c, contour in enumerate(contours_s):\n",
    "        label = cv2.fillPoly(label,[contour],c+1 if cellnumbers is None else cellnumbers[c])\n",
    "    if return_contours:\n",
    "        return label, contours\n",
    "    else:\n",
    "        return label"
   ]
  },
  {
   "cell_type": "code",
   "execution_count": null,
   "metadata": {},
   "outputs": [],
   "source": [
    "this_lab = label_seg(labels[0])\n",
    "plt.imshow(this_lab)"
   ]
  },
  {
   "cell_type": "code",
   "execution_count": null,
   "metadata": {},
   "outputs": [],
   "source": [
    "uniq_labs = np.zeros((125,512,512))\n",
    "for i in range(len(labels)):\n",
    "    labeled_array = label_seg(labels[i].copy()) # This use label_seg() function from DELTA.utilities\n",
    "    uniq_labs[i, :, :] = labeled_array"
   ]
  },
  {
   "cell_type": "code",
   "execution_count": null,
   "metadata": {},
   "outputs": [],
   "source": [
    "imageio.mimwrite('data/testing_SEGpred_default_weights_UNIQLAB_2.tif', uniq_labs)"
   ]
  },
  {
   "cell_type": "markdown",
   "metadata": {},
   "source": [
    "Take home message after viewing both cell segmentation results : scipy.ndimage.label and delta.utilities.seg_label are producing the same output with the same problem : cells that are close from each other are getting glued together.. ! "
   ]
  },
  {
   "cell_type": "markdown",
   "metadata": {},
   "source": [
    "### Script to separate cells that are close by "
   ]
  },
  {
   "cell_type": "code",
   "execution_count": null,
   "metadata": {},
   "outputs": [],
   "source": [
    "def euc_dist(arr1, arr2):\n",
    "    return(np.linalg.norm(arr1 - arr2))\n",
    "\n",
    "def reindex_cell_labels(img):\n",
    "    idx = np.unique(img)\n",
    "    for i, x in enumerate(idx):\n",
    "        img[img == x] = i\n",
    "    return(img)\n",
    "\n",
    "class Cell:\n",
    "    def __init__(self, label, x_m=None, y_m=None, size=None):\n",
    "        self.label = label\n",
    "        self.pxl_pos = None \n",
    "        self.x_m = x_m\n",
    "        self.y_m = y_m\n",
    "        self.size = size\n",
    "        self.dist2board = None\n",
    "        self.c_pos = None\n",
    "        self.nn_t = [None, 1000]\n",
    "        self.nn_tp1 = [None, 1000]\n",
    "        self.self_tp1 = [None, 1000]\n",
    "        self.nn_tp2 = [None, 1000]\n",
    "        self.self_tp2 = [None, 1000]\n",
    "        \n",
    "    def dist_to_board(self, img):\n",
    "        self.dist2board = min(min(abs(self.y_m - 0), abs(self.y_m - img.shape[1])),\n",
    "                              min(abs(self.x_m - 0), abs(self.x_m - img.shape[0])) )\n",
    "    \n",
    "    def define_pos(self, pxl_pos_x, pxl_pos_y):\n",
    "        self.x_m = int(np.mean(pxl_pos_x))\n",
    "        self.y_m = int(np.mean(pxl_pos_y))\n",
    "        self.c_pos = np.array([self.x_m, self.y_m])\n",
    "        self.size = len(self.pxl_pos[:,0])\n",
    "        \n",
    "    def get_pos_from_img(self, img):\n",
    "        self.pxl_pos = np.argwhere(img == self.label)\n",
    "        self.x_m = int(np.mean(self.pxl_pos[:,0]))\n",
    "        self.y_m = int(np.mean(self.pxl_pos[:,1]))\n",
    "        self.c_pos = np.array([self.x_m, self.y_m])\n",
    "        self.size = len(self.pxl_pos[:,0])\n",
    "        \n",
    "    def find_NN(self, cellc):\n",
    "        n_cells = len(cellc.cells)\n",
    "        for m, lab in enumerate(cellc.cells_labels):\n",
    "            if lab != self.label:\n",
    "                d = euc_dist(self.c_pos, cellc.cells[m].c_pos)\n",
    "                if d < self.nn_t[1]:\n",
    "                    self.nn_t[0] = lab\n",
    "                    self.nn_t[1] = d\n",
    "                    \n",
    "    def find_NN_otherFrame(self, cellc, timepoint='tp1'):\n",
    "        n_cells = len(cellc.cells)\n",
    "        for m, lab in enumerate(cellc.cells_labels):\n",
    "            d = euc_dist(self.c_pos, cellc.cells[m].c_pos)\n",
    "            if timepoint == 'tp1':\n",
    "                if d < self.self_tp1[1]:\n",
    "                    self.self_tp1[0] = lab\n",
    "                    self.self_tp1[1] = d\n",
    "            elif timepoint == 'tp2':\n",
    "                if d < self.self_tp2[1]:\n",
    "                    self.self_tp2[0] = lab\n",
    "                    self.self_tp2[1] = d\n",
    "                    \n",
    "        for m, lab in enumerate(cellc.cells_labels):\n",
    "            d = euc_dist(self.c_pos, cellc.cells[m].c_pos)\n",
    "            if timepoint == 'tp1':\n",
    "                if lab != self.self_tp1[0]:\n",
    "                    if d < self.nn_tp1[1]:\n",
    "                        self.nn_tp1[0] = lab\n",
    "                        self.nn_tp1[1] = d\n",
    "            elif timepoint == 'tp2':\n",
    "                if lab != self.self_tp2[0]:\n",
    "                    if d < self.nn_tp2[1]:\n",
    "                        self.nn_tp2[0] = lab\n",
    "                        self.nn_tp2[1] = d\n",
    "                \n",
    "class CellContainer:\n",
    "    def __init__(self):\n",
    "        self.cells = []\n",
    "        self.cells_x = []\n",
    "        self.cells_y = [] \n",
    "        self.cells_labels = []  \n",
    "        self.n_c = 0\n",
    "        \n",
    "    def init_from_img(self, img):\n",
    "        cells_idx = np.unique(img)\n",
    "        cells_idx = cells_idx[cells_idx!=0]\n",
    "        for i, idx in enumerate(cells_idx):\n",
    "            cell = Cell(idx) # create a cell with a label\n",
    "            cell.get_pos_from_img(img) # get info about pixel, size and center of cell\n",
    "            cell.dist_to_board(img) # calculate minimal distance to image boarders\n",
    "            self.add_cell(cell)\n",
    "    \n",
    "    def create_cell_from_pos(self, pxl_pos_x, pxl_pos_y, cell_idx):\n",
    "        cell = Cell(cell_idx)\n",
    "        cell.define_pos(pxl_pos_x, pxl_pos_y)\n",
    "        self.add_cell(cell)\n",
    "    \n",
    "    def add_cell(self, cell):\n",
    "        self.cells.append(cell)\n",
    "        self.cells_x.append(cell.x_m)\n",
    "        self.cells_y.append(cell.y_m)\n",
    "        self.cells_labels.append(cell.label)\n",
    "    \n",
    "    def replace_cell(self, pxl_pos_x, pxl_pos_y, cell_idx):\n",
    "        cell = Cell(cell_idx)\n",
    "        cell.define_pos(pxl_pos_x, pxl_pos_y)\n",
    "        self.cells[cell_idx] = cell\n",
    "        self.cells_x[cell_idx] = cell.x_m\n",
    "        self.cells_y[cell_idx] = cell.y_m\n",
    "        \n",
    "    def find_NN(self):\n",
    "        for i, idx in enumerate(self.cells_labels):\n",
    "            self.cells[i].find_NN(self)\n",
    "            \n",
    "    def find_NN_other_frame(self, cc_next, timepoint = 'tp1'):\n",
    "        for i, idx in enumerate(self.cells_labels):\n",
    "            self.cells[i].find_NN_otherFrame(cc_next, timepoint)"
   ]
  },
  {
   "cell_type": "code",
   "execution_count": null,
   "metadata": {},
   "outputs": [],
   "source": [
    "cell_container_t = CellContainer()\n",
    "cell_container_t.init_from_img(uniq_labs[124,:,:])\n",
    "cell_container_t.find_NN()"
   ]
  },
  {
   "cell_type": "code",
   "execution_count": 244,
   "metadata": {},
   "outputs": [
    {
     "data": {
      "text/plain": [
       "195"
      ]
     },
     "execution_count": 244,
     "metadata": {},
     "output_type": "execute_result"
    }
   ],
   "source": [
    "coi = 20 # cell of interest label\n",
    "cell_container_t.cells[coi-1].size"
   ]
  },
  {
   "cell_type": "markdown",
   "metadata": {},
   "source": [
    "Indeed this one is a big cell ! -> It actually comes from multiple cells glued together .. ! "
   ]
  },
  {
   "cell_type": "code",
   "execution_count": 399,
   "metadata": {},
   "outputs": [],
   "source": [
    "final_seg = np.zeros((125,512,512))\n",
    "\n",
    "for f in range(125):\n",
    "    I = cell_img[f].copy()\n",
    "    I_seg = uniq_labs[f,:,:].copy()\n",
    "\n",
    "    # Hereafter, a filtering that would apply a cell-specific filtering\n",
    "    '''\n",
    "    all_labels = np.unique(I_seg)\n",
    "    all_labels = all_labels[all_labels!=0]\n",
    "\n",
    "    final_label = np.zeros((512,512))\n",
    "    for lab in all_labels:\n",
    "        I_tmp = I.copy() ; I_seg_tmp = I_seg.copy()\n",
    "        I_tmp[uniq_labs[f,:,:] != lab] = 0\n",
    "        I_seg_tmp[uniq_labs[f,:,:] != lab] = 0\n",
    "\n",
    "        flat_img = I_tmp.flatten()\n",
    "        flat_seg = I_seg_tmp.flatten()\n",
    "        flat_img_sub = flat_img[flat_img != 0].copy()\n",
    "        flat_seg[flat_img < np.mean(flat_img_sub)] = 0\n",
    "\n",
    "        final_label += flat_seg.reshape(512,-1)\n",
    "    '''\n",
    "    \n",
    "    # Hereafter, an image-specific filtering \n",
    "    flat_img = I.flatten()\n",
    "    flat_seg = I_seg.flatten()\n",
    "    flat_img_sub = flat_img[flat_img != 0].copy()\n",
    "    \n",
    "    # We use only the top X percent signal (can be adapted depending on predictions)\n",
    "    flat_seg[flat_img < np.quantile(flat_img_sub, q=0.95)] = 0\n",
    "    final_label = flat_seg.reshape(512,-1)\n",
    "    \n",
    "    final_label[final_label > 0] = 1\n",
    "\n",
    "    final_label_r, num_features = scipy.ndimage.label(final_label)\n",
    "\n",
    "    cell_container_t = CellContainer()\n",
    "    cell_container_t.init_from_img(final_label_r)\n",
    "\n",
    "    cell_sizes = [] ; cell_labs = []\n",
    "    for i, lab in enumerate(cell_container_t.cells_labels):\n",
    "        cell_sizes.append(cell_container_t.cells[i].size)\n",
    "        cell_labs.append(lab)\n",
    "\n",
    "    cells_to_rm = np.array(cell_labs)[np.array(cell_sizes) < 20]\n",
    "\n",
    "    for lab in cells_to_rm:   \n",
    "        final_label_r[final_label_r == lab] = 0\n",
    "    \n",
    "    final_seg[f,:,:] = final_label_r"
   ]
  },
  {
   "cell_type": "code",
   "execution_count": 400,
   "metadata": {},
   "outputs": [
    {
     "data": {
      "text/plain": [
       "<matplotlib.image.AxesImage at 0x12f833130>"
      ]
     },
     "execution_count": 400,
     "metadata": {},
     "output_type": "execute_result"
    },
    {
     "data": {
      "image/png": "[encoded data removed]",
      "text/plain": [
       "<Figure size 576x396 with 1 Axes>"
      ]
     },
     "metadata": {},
     "output_type": "display_data"
    }
   ],
   "source": [
    "plt.imshow(final_seg[124,:,:])"
   ]
  },
  {
   "cell_type": "code",
   "execution_count": 401,
   "metadata": {},
   "outputs": [],
   "source": [
    "imageio.mimwrite('data/testing_SEGpred_default_weights_UNIQLAB_FILTER_1.tif', final_seg)"
   ]
  },
  {
   "cell_type": "code",
   "execution_count": 28,
   "metadata": {},
   "outputs": [],
   "source": [
    "import numpy as np\n",
    "import numpy.linalg as lin"
   ]
  },
  {
   "cell_type": "code",
   "execution_count": 36,
   "metadata": {},
   "outputs": [],
   "source": [
    "a = np.array([1, 0, 0])\n",
    "Theta = np.array([[0.7,0.2,0.1],[0.2,0.7,0.1],[0.2,0.1,0.7]])"
   ]
  },
  {
   "cell_type": "code",
   "execution_count": 37,
   "metadata": {},
   "outputs": [
    {
     "data": {
      "text/plain": [
       "array([0.129862, 0.123612, 0.139164])"
      ]
     },
     "execution_count": 37,
     "metadata": {},
     "output_type": "execute_result"
    }
   ],
   "source": [
    "0.2 * lin.matrix_power(Theta,5) @ [1, 0, 1]"
   ]
  },
  {
   "cell_type": "code",
   "execution_count": 38,
   "metadata": {},
   "outputs": [
    {
     "data": {
      "text/plain": [
       "array([0.268198, 0.261948, 0.324156])"
      ]
     },
     "execution_count": 38,
     "metadata": {},
     "output_type": "execute_result"
    }
   ],
   "source": [
    "0.2 * lin.matrix_power(Theta,5) @ np.array([1, 0, 0]) + 0.8 * lin.matrix_power(Theta,5) @ np.array([0, 0, 1])"
   ]
  },
  {
   "cell_type": "code",
   "execution_count": 39,
   "metadata": {},
   "outputs": [
    {
     "data": {
      "text/plain": [
       "array([0.268198, 0.261948, 0.324156])"
      ]
     },
     "execution_count": 39,
     "metadata": {},
     "output_type": "execute_result"
    }
   ],
   "source": [
    "np.array([0.2, 0, 0.8]) @ lin.matrix_power(Theta,5).T"
   ]
  }
 ],
 "metadata": {
  "colab": {
   "collapsed_sections": [],
   "name": "explore_tif.ipynb",
   "provenance": []
  },
  "kernelspec": {
   "display_name": "general_python3_env",
   "language": "python",
   "name": "general_python3_env"
  },
  "language_info": {
   "codemirror_mode": {
    "name": "ipython",
    "version": 3
   },
   "file_extension": ".py",
   "mimetype": "text/x-python",
   "name": "python",
   "nbconvert_exporter": "python",
   "pygments_lexer": "ipython3",
   "version": "3.8.2"
  }
 },
 "nbformat": 4,
 "nbformat_minor": 1
}
