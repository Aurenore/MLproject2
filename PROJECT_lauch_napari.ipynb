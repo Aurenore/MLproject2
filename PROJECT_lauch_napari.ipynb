{
 "cells": [
  {
   "cell_type": "code",
   "execution_count": null,
   "metadata": {},
   "outputs": [],
   "source": [
    "# Install Napari on jupyter notebook \n",
    "import sys\n",
    "!{sys.executable} -m pip install \"napari[all]\""
   ]
  },
  {
   "cell_type": "code",
   "execution_count": 1,
   "metadata": {
    "executionInfo": {
     "elapsed": 2081,
     "status": "ok",
     "timestamp": 1637253835568,
     "user": {
      "displayName": "Axl Roland",
      "photoUrl": "https://lh3.googleusercontent.com/a/default-user=s64",
      "userId": "07744519565161145905"
     },
     "user_tz": -60
    },
    "id": "2D7T9bq7jvmp"
   },
   "outputs": [],
   "source": [
    "import matplotlib.pyplot as plt\n",
    "import numpy as np\n",
    "import cv2\n",
    "import napari\n",
    "import skimage.io as io\n",
    "from scipy.ndimage import label\n",
    "import imageio\n",
    "from utils import labels2binary, kernel, seg_weights_2D\n",
    "from scipy.ndimage import binary_fill_holes"
   ]
  },
  {
   "cell_type": "code",
   "execution_count": 2,
   "metadata": {},
   "outputs": [],
   "source": [
    "def reindex_cell_labels(img):\n",
    "    idx = np.unique(img)\n",
    "    img_c = img.copy()\n",
    "    for i, x in enumerate(idx):\n",
    "        img_c[img_c == x] = i\n",
    "    return(img_c)"
   ]
  },
  {
   "cell_type": "code",
   "execution_count": 3,
   "metadata": {},
   "outputs": [],
   "source": [
    "# This is a work around to work with the image subsets we have :\n",
    "cell_img_file = \"data/testing_TOPRIGHT_fullmovie_IMAGE.tif\"\n",
    "_, cell_img = cv2.imreadmulti(cell_img_file, [], cv2.IMREAD_ANYDEPTH)"
   ]
  },
  {
   "cell_type": "code",
   "execution_count": 4,
   "metadata": {},
   "outputs": [],
   "source": [
    "cell_img_list = np.zeros((125,512,512))\n",
    "for i in range(125):\n",
    "    cell_img_list[i,:,:] = cell_img[i][0:512,0:512].copy()"
   ]
  },
  {
   "cell_type": "code",
   "execution_count": 5,
   "metadata": {},
   "outputs": [
    {
     "data": {
      "text/plain": [
       "(125, 512, 512)"
      ]
     },
     "execution_count": 5,
     "metadata": {},
     "output_type": "execute_result"
    }
   ],
   "source": [
    "cell_img_list.shape"
   ]
  },
  {
   "cell_type": "code",
   "execution_count": 6,
   "metadata": {},
   "outputs": [],
   "source": [
    "viewer = napari.view_image(cell_img_list, name='cell_img')"
   ]
  },
  {
   "cell_type": "code",
   "execution_count": 3,
   "metadata": {},
   "outputs": [],
   "source": [
    "# This is a work around to work with the image subsets we have :\n",
    "label_file = \"data/movie_tracking_track_out_n3.tif\"\n",
    "_,labels = cv2.imreadmulti(label_file, [], cv2.IMREAD_ANYDEPTH)"
   ]
  },
  {
   "cell_type": "code",
   "execution_count": 9,
   "metadata": {},
   "outputs": [
    {
     "data": {
      "text/plain": [
       "3742"
      ]
     },
     "execution_count": 9,
     "metadata": {},
     "output_type": "execute_result"
    }
   ],
   "source": [
    "labels[0].shape[1]"
   ]
  },
  {
   "cell_type": "code",
   "execution_count": 4,
   "metadata": {},
   "outputs": [],
   "source": [
    "# transform labels into binary mask \n",
    "#binary_mask = np.zeros((125, labels[0].shape[0], labels[0].shape[1])).astype('uint16')\n",
    "binary_mask = np.zeros((125, 1000, 1000)).astype('uint16')\n",
    "for i in range(len(labels)):\n",
    "    #print(i)\n",
    "    #mask = labels2binary(labels[i].copy().astype('uint16'))\n",
    "    mask = labels[i].copy().astype('uint16')\n",
    "    #mask = binary_fill_holes(mask)\n",
    "    #mask[mask > 1] = 1\n",
    "    binary_mask[i] = mask"
   ]
  },
  {
   "cell_type": "code",
   "execution_count": 5,
   "metadata": {},
   "outputs": [],
   "source": [
    "viewer = napari.view_image(binary_mask, name='cell_img')\n",
    "#viewer.add_labels(mask_binary)"
   ]
  },
  {
   "cell_type": "code",
   "execution_count": 18,
   "metadata": {},
   "outputs": [
    {
     "data": {
      "text/plain": [
       "array([0, 1], dtype=uint16)"
      ]
     },
     "execution_count": 18,
     "metadata": {},
     "output_type": "execute_result"
    }
   ],
   "source": [
    "np.unique(binary_mask[120])"
   ]
  },
  {
   "cell_type": "code",
   "execution_count": 13,
   "metadata": {},
   "outputs": [],
   "source": [
    "imageio.mimwrite('data/_fullmovie_segmentation_cellpose_BINARIZED_FILLHOLES.tif', binary_mask)"
   ]
  },
  {
   "cell_type": "code",
   "execution_count": 301,
   "metadata": {},
   "outputs": [],
   "source": [
    "uniq_labz = np.zeros((125,512,512)).astype('uint16')\n",
    "for i in range(125):\n",
    "    uniq_labz[i,:,:] = label(labels[i].copy())[0]"
   ]
  },
  {
   "cell_type": "code",
   "execution_count": 302,
   "metadata": {},
   "outputs": [
    {
     "data": {
      "text/plain": [
       "<Labels layer 'uniq_labz' at 0x1535ce550>"
      ]
     },
     "execution_count": 302,
     "metadata": {},
     "output_type": "execute_result"
    }
   ],
   "source": [
    "viewer.add_labels(uniq_labz)"
   ]
  },
  {
   "cell_type": "code",
   "execution_count": 303,
   "metadata": {},
   "outputs": [
    {
     "data": {
      "text/plain": [
       "<Labels layer 'labels_list [1]' at 0x158379c40>"
      ]
     },
     "execution_count": 303,
     "metadata": {},
     "output_type": "execute_result"
    }
   ],
   "source": [
    "# This is a work around to work with the image subsets we have :\n",
    "label_file = \"/Users/acoudray/Desktop/tmp_samba/phd_courses/machine_learning/project2/data/testing_cellpos_seg.tif\"\n",
    "_,labels = cv2.imreadmulti(label_file, [], cv2.IMREAD_ANYDEPTH)\n",
    "labels_list = np.zeros((125,512,512)).astype('uint16')\n",
    "for i in range(125):\n",
    "    labels_list[i,:,:] = reindex_cell_labels(labels[i].copy()).astype('uint16')\n",
    "viewer.add_labels(labels_list)"
   ]
  },
  {
   "cell_type": "code",
   "execution_count": 9,
   "metadata": {},
   "outputs": [],
   "source": [
    "# TESTING SET \n",
    "# This is a work around to work with the image subsets we have :\n",
    "cell_img_file = \"/Users/acoudray/Desktop/tmp_samba/phd_courses/machine_learning/project2/data/_fullmovie_images.tif\"\n",
    "_, cell_img = cv2.imreadmulti(cell_img_file, [], cv2.IMREAD_ANYDEPTH)"
   ]
  },
  {
   "cell_type": "code",
   "execution_count": 10,
   "metadata": {},
   "outputs": [],
   "source": [
    "cell_img_list = np.zeros((125,512,512))\n",
    "for i in range(125):\n",
    "    cell_img_list[i,:,:] = cell_img[i].copy()[1024:1536,0:512]"
   ]
  },
  {
   "cell_type": "code",
   "execution_count": 12,
   "metadata": {},
   "outputs": [],
   "source": [
    "viewer = napari.view_image(cell_img_list, name='cell_img')\n",
    "#viewer.add_image(cell_img_list)"
   ]
  },
  {
   "cell_type": "code",
   "execution_count": 22,
   "metadata": {},
   "outputs": [],
   "source": [
    "# This is a work around to work with the image subsets we have :\n",
    "label_file = \"/Users/acoudray/Desktop/tmp_samba/phd_courses/machine_learning/project2/data/movie_tracking_track_out_n3_SMALL.tif\"\n",
    "_, labels = cv2.imreadmulti(label_file, [], cv2.IMREAD_ANYDEPTH)"
   ]
  },
  {
   "cell_type": "code",
   "execution_count": 23,
   "metadata": {},
   "outputs": [],
   "source": [
    "labels_arr = np.zeros((125,300,300)).astype('uint16')\n",
    "for i in range(125):\n",
    "    labels_arr[i,:,:] = labels[i].copy()[0:300,0:300].astype('uint16')"
   ]
  },
  {
   "cell_type": "code",
   "execution_count": 24,
   "metadata": {},
   "outputs": [
    {
     "data": {
      "text/plain": [
       "<Labels layer 'labels_arr [4]' at 0x16c8dbaf0>"
      ]
     },
     "execution_count": 24,
     "metadata": {},
     "output_type": "execute_result"
    }
   ],
   "source": [
    "viewer.add_labels(labels_arr)"
   ]
  },
  {
   "cell_type": "code",
   "execution_count": 15,
   "metadata": {},
   "outputs": [
    {
     "data": {
      "text/plain": [
       "array([  0, 385, 392, 404, 420, 421, 423, 444, 445, 450, 454, 460, 462,\n",
       "       474, 481, 486, 487, 488, 494, 504, 514], dtype=uint16)"
      ]
     },
     "execution_count": 15,
     "metadata": {},
     "output_type": "execute_result"
    }
   ],
   "source": [
    "np.unique(labels_list[0,:,:])"
   ]
  },
  {
   "cell_type": "markdown",
   "metadata": {},
   "source": [
    "### Napari Tutotial :"
   ]
  },
  {
   "cell_type": "code",
   "execution_count": 11,
   "metadata": {},
   "outputs": [],
   "source": [
    "from skimage import data\n",
    "from skimage.filters import threshold_otsu\n",
    "from skimage.segmentation import clear_border\n",
    "from skimage.measure import label\n",
    "from skimage.morphology import closing, square, remove_small_objects"
   ]
  },
  {
   "cell_type": "code",
   "execution_count": 12,
   "metadata": {},
   "outputs": [],
   "source": [
    "coins = data.coins()[50:-50, 50:-50]"
   ]
  },
  {
   "cell_type": "code",
   "execution_count": 14,
   "metadata": {},
   "outputs": [
    {
     "data": {
      "text/plain": [
       "(203, 284)"
      ]
     },
     "execution_count": 14,
     "metadata": {},
     "output_type": "execute_result"
    }
   ],
   "source": [
    "coins.shape"
   ]
  },
  {
   "cell_type": "code",
   "execution_count": 19,
   "metadata": {},
   "outputs": [],
   "source": [
    "# apply threshold\n",
    "thresh = threshold_otsu(coins)\n",
    "bw = closing(coins > thresh, square(4))\n",
    "# remove artifacts connected to image border\n",
    "#cleared = remove_small_objects(clear_border(bw), 20)\n",
    "# label image regions\n",
    "label_image = label(cleared)\n",
    "\n",
    "# create the viewer and add the coins image\n",
    "viewer = napari.view_image(coins, name='coins')\n",
    "# add the labels\n",
    "#labels_layer = viewer.add_labels(label_image, name='segmentation')"
   ]
  },
  {
   "cell_type": "code",
   "execution_count": 20,
   "metadata": {},
   "outputs": [],
   "source": [
    "coin_lab_test = io.imread(\"/Users/acoudray/Downloads/coin_label_test.tif\")\n",
    "labels_layer = viewer.add_labels(coin_lab_test, name='segmentation')"
   ]
  }
 ],
 "metadata": {
  "colab": {
   "collapsed_sections": [],
   "name": "explore_tif.ipynb",
   "provenance": []
  },
  "kernelspec": {
   "display_name": "general_python3_env",
   "language": "python",
   "name": "general_python3_env"
  },
  "language_info": {
   "codemirror_mode": {
    "name": "ipython",
    "version": 3
   },
   "file_extension": ".py",
   "mimetype": "text/x-python",
   "name": "python",
   "nbconvert_exporter": "python",
   "pygments_lexer": "ipython3",
   "version": "3.8.2"
  }
 },
 "nbformat": 4,
 "nbformat_minor": 1
}
