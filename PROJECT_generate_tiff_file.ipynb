{
  "cells": [
    {
      "cell_type": "markdown",
      "metadata": {},
      "source": [
        "## Generate the files from the original data in order to be treated in Ilastik"
      ]
    },
    {
      "cell_type": "code",
      "execution_count": null,
      "metadata": {
        "id": "2D7T9bq7jvmp"
      },
      "outputs": [],
      "source": [
        "import matplotlib.pyplot as plt\n",
        "import numpy as np\n",
        "from sklearn import preprocessing\n",
        "import cv2\n",
        "import skimage.io as io\n",
        "import skimage.morphology as morph\n",
        "from PIL import Image as im\n",
        "from PIL import ImageFilter\n",
        "from imageio import mimwrite\n",
        "from scipy.ndimage import label"
      ]
    },
    {
      "cell_type": "markdown",
      "metadata": {
        "id": "p8DucIwcCT24"
      },
      "source": [
        "cv2 packages allows to retrieve all frame in a list with `cv2.imreadmulti` or a single one with `cv2.imread`"
      ]
    },
    {
      "cell_type": "code",
      "execution_count": null,
      "metadata": {
        "id": "l57ZYTgmr32u"
      },
      "outputs": [],
      "source": [
        "tiff_file='/data/_fullmovie_images.tif'"
      ]
    },
    {
      "cell_type": "code",
      "execution_count": null,
      "metadata": {
        "id": "h8Ic8UAScrfq"
      },
      "outputs": [],
      "source": [
        "# This reads all the frame at once , takes long to run\n",
        "_, frame_data = cv2.imreadmulti(tiff_file, [], cv2.IMREAD_ANYDEPTH)\n",
        "N=len(frame_data)"
      ]
    },
    {
      "cell_type": "markdown",
      "metadata": {
        "id": "_Z8r3WYKDdOk"
      },
      "source": [
        "# to save filtered images"
      ]
    },
    {
      "cell_type": "markdown",
      "metadata": {
        "id": "StjnVbr5t8BB"
      },
      "source": [
        "to save the filtered image sequence under format .tiff [1024:1536,0:512] (training images)"
      ]
    },
    {
      "cell_type": "code",
      "execution_count": null,
      "metadata": {
        "id": "klniq5cft6sa"
      },
      "outputs": [],
      "source": [
        "video=np.zeros((N,512,512))\n",
        "for i in range(N):\n",
        "  if i<N:\n",
        "    frame_number = i\n",
        "    I = frame_data[frame_number]\n",
        "    I_filt = I.copy()\n",
        "    I_filt[I_filt<10]=0 #to remove some noise (to improve with a noise filter)\n",
        "    I_scale_cut=I_filt[1024:1536,0:512]\n",
        "    video[frame_number,:,:]=I_scale_cut\n",
        "    #to save the images one by one under format .jpg:\n",
        "    #cv2.imwrite('/content/gdrive/MyDrive/ML2_data/training_images/scale/image_'+str(frame_number)+'.jpg', I_scale_cut)\n",
        "\n",
        "#save the video under format .tiff\n",
        "mimwrite('/data/video1.tiff', video)\n"
      ]
    },
    {
      "cell_type": "markdown",
      "metadata": {
        "id": "UD9FK_BJWSN1"
      },
      "source": [
        "same thing for the top left image (testing images)"
      ]
    },
    {
      "cell_type": "code",
      "execution_count": null,
      "metadata": {
        "id": "bOjZekFqWUyg"
      },
      "outputs": [],
      "source": [
        "video=np.zeros((N,512,512))\n",
        "for i in range(N):\n",
        "  if i<N:\n",
        "    frame_number = i\n",
        "    I = frame_data[frame_number]\n",
        "    I_filt = I.copy()\n",
        "    I_filt[I_filt<10]=0#to remove some noise (to improve with a noise filter)\n",
        "    I_scale_cut=I_filt[0:512,0:512]\n",
        "    video[frame_number,:,:]=I_scale_cut\n",
        "    #to save the images :\n",
        "    #cv2.imwrite('/content/gdrive/MyDrive/ML2_data/top_left_corner_to_compare/image_'+str(frame_number)+'.jpg', I_scale_cut)\n",
        "\n",
        "#save the video under format .tiff   \n",
        "mimwrite('/data/video2.tiff', video)"
      ]
    }
  ],
  "metadata": {
    "accelerator": "GPU",
    "colab": {
      "collapsed_sections": [
        "cIUi0g-Jf-aT"
      ],
      "name": "PROJECT_generate_tiff_file.ipynb",
      "provenance": []
    },
    "kernelspec": {
      "display_name": "Python 3",
      "name": "python3"
    },
    "language_info": {
      "name": "python"
    }
  },
  "nbformat": 4,
  "nbformat_minor": 0
}
